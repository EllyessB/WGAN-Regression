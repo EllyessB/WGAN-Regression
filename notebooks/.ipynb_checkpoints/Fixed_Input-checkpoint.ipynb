{
 "cells": [
  {
   "cell_type": "code",
   "execution_count": 1,
   "metadata": {
    "_cell_guid": "79c7e3d0-c299-4dcb-8224-4455121ee9b0",
    "_uuid": "d629ff2d2480ee46fbb7e2d37f6b5fab8052498a",
    "colab": {},
    "colab_type": "code",
    "id": "mU7Kb8-6Qs9m"
   },
   "outputs": [],
   "source": [
    "# Common imports\n",
    "import numpy as np\n",
    "import os\n",
    "\n",
    "# To plot pretty figures\n",
    "%matplotlib inline\n",
    "import matplotlib as mpl\n",
    "import matplotlib.pyplot as plt\n",
    "import matplotlib.style as style\n",
    "# style.use('bmh')\n",
    "from mpl_toolkits.mplot3d import Axes3D\n",
    "mpl.rc('axes', labelsize=14)\n",
    "mpl.rc('xtick', labelsize=12)\n",
    "mpl.rc('ytick', labelsize=12)\n",
    "\n",
    "import pandas as pd\n",
    "import seaborn as sns\n",
    "\n",
    "import tensorflow as tf\n",
    "import keras\n",
    "import random\n",
    "\n",
    "import sys\n",
    "sys.path.append(\"..\")\n",
    "\n",
    "import dataset, network, GPR_Model, prob_dist\n",
    "import WGAN_Model"
   ]
  },
  {
   "cell_type": "markdown",
   "metadata": {
    "colab_type": "text",
    "id": "37tykamPQs9o"
   },
   "source": [
    "# Load data"
   ]
  },
  {
   "cell_type": "code",
   "execution_count": 2,
   "metadata": {},
   "outputs": [],
   "source": [
    "# 2 n_features sets \"sinus\", \"circle\", \"multi\", \"moons\", \"heter\"\n",
    "# 3 n_features sets \"helix\", \"3d\"\n",
    "\n",
    "scenario = \"moons\"\n",
    "n_instance = 500 # number of generated points\n",
    "n_features = 2"
   ]
  },
  {
   "cell_type": "code",
   "execution_count": 3,
   "metadata": {},
   "outputs": [
    {
     "data": {
      "image/png": "[encoded data removed]",
      "text/plain": [
       "<Figure size 432x288 with 1 Axes>"
      ]
     },
     "metadata": {
      "needs_background": "light"
     },
     "output_type": "display_data"
    }
   ],
   "source": [
    "if scenario in (\"3d\", \"helix\") :\n",
    "    X_train, y_train, X_test, y_test, X_valid, y_valid = dataset.get_dataset(n_instance, scenario)\n",
    "\n",
    "    ax = plt.subplot(projection='3d')\n",
    "    ax.scatter(X_train[:,0], X_train[:,1], y_train, c='r')\n",
    "\n",
    "    ax.set_zlabel('Z')\n",
    "    ax.set_ylabel('Y')\n",
    "    ax.set_xlabel('X')\n",
    "\n",
    "    plt.tight_layout()\n",
    "    \n",
    "else:\n",
    "    X_train, y_train, X_test, y_test, X_valid, y_valid = dataset.get_dataset(n_instance, scenario)\n",
    "    plt.scatter(X_train,y_train, c='grey')\n",
    "    plt.ylabel('Y')\n",
    "    plt.xlabel('X')\n",
    "    plt.tight_layout()"
   ]
  },
  {
   "cell_type": "markdown",
   "metadata": {},
   "source": [
    "# WGAN"
   ]
  },
  {
   "cell_type": "markdown",
   "metadata": {},
   "source": [
    "### Preprocessing"
   ]
  },
  {
   "cell_type": "code",
   "execution_count": 4,
   "metadata": {},
   "outputs": [],
   "source": [
    "wgan = WGAN_Model.WGAN(n_features)"
   ]
  },
  {
   "cell_type": "code",
   "execution_count": 5,
   "metadata": {},
   "outputs": [
    {
     "name": "stdout",
     "output_type": "stream",
     "text": [
      "every time the data shape (100, 2)\n",
      "every time the data shape (100, 2)\n",
      "every time the data shape (100, 2)\n",
      "every time the data shape (100, 2)\n",
      "every time the data shape (100, 2)\n"
     ]
    }
   ],
   "source": [
    "train_dataset, scaler, X_train_scaled = wgan.preproc(X_train, y_train)"
   ]
  },
  {
   "cell_type": "markdown",
   "metadata": {
    "colab_type": "text",
    "id": "lf3gYhyLQs-i"
   },
   "source": [
    "### Training"
   ]
  },
  {
   "cell_type": "code",
   "execution_count": null,
   "metadata": {
    "colab": {
     "base_uri": "https://localhost:8080/",
     "height": 1000
    },
    "colab_type": "code",
    "id": "pXxUOsLtQs_F",
    "outputId": "db2224bd-db4f-4d17-c845-780832896fa4"
   },
   "outputs": [
    {
     "name": "stdout",
     "output_type": "stream",
     "text": [
      "Epoch 0/1000\n",
      "discriminator: -0.017481 - generator: 0.958044 - 6s\n",
      "Epoch 1/1000\n",
      "discriminator: -0.001403 - generator: 0.937494 - 0s\n",
      "Epoch 2/1000\n",
      "discriminator: 0.019920 - generator: 0.995437 - 0s\n",
      "Epoch 3/1000\n",
      "discriminator: -0.012837 - generator: 0.977413 - 0s\n",
      "Epoch 4/1000\n",
      "discriminator: 0.023644 - generator: 0.966124 - 0s\n",
      "Epoch 5/1000\n",
      "discriminator: 0.020888 - generator: 0.946512 - 0s\n",
      "Epoch 6/1000\n",
      "discriminator: 0.037782 - generator: 0.965960 - 0s\n",
      "Epoch 7/1000\n",
      "discriminator: -0.000136 - generator: 1.006565 - 0s\n",
      "Epoch 8/1000\n",
      "discriminator: -0.018855 - generator: 0.992494 - 0s\n",
      "Epoch 9/1000\n",
      "discriminator: 0.001582 - generator: 0.991488 - 0s\n",
      "Epoch 10/1000\n",
      "discriminator: -0.022774 - generator: 1.033745 - 0s\n",
      "Epoch 11/1000\n",
      "discriminator: -0.011287 - generator: 1.029275 - 0s\n",
      "Epoch 12/1000\n",
      "discriminator: 0.017402 - generator: 1.029934 - 0s\n",
      "Epoch 13/1000\n",
      "discriminator: -0.004436 - generator: 1.059753 - 0s\n",
      "Epoch 14/1000\n",
      "discriminator: 0.010617 - generator: 1.047060 - 0s\n",
      "Epoch 15/1000\n",
      "discriminator: -0.017297 - generator: 1.080702 - 0s\n",
      "Epoch 16/1000\n",
      "discriminator: -0.011393 - generator: 1.095826 - 0s\n",
      "Epoch 17/1000\n",
      "discriminator: -0.022931 - generator: 1.101599 - 0s\n",
      "Epoch 18/1000\n",
      "discriminator: -0.003018 - generator: 1.087998 - 0s\n",
      "Epoch 19/1000\n",
      "discriminator: 0.000253 - generator: 1.127581 - 0s\n",
      "Epoch 20/1000\n",
      "discriminator: 0.010655 - generator: 1.095355 - 0s\n",
      "Epoch 21/1000\n",
      "discriminator: -0.010197 - generator: 1.117705 - 0s\n",
      "Epoch 22/1000\n"
     ]
    }
   ],
   "source": [
    "hist = wgan.train(train_dataset, epochs=1000)"
   ]
  },
  {
   "cell_type": "code",
   "execution_count": null,
   "metadata": {},
   "outputs": [],
   "source": [
    "# plot loss\n",
    "print('Loss: ')\n",
    "fig, ax = plt.subplots(1,1, figsize=[10,5])\n",
    "ax.plot(hist)\n",
    "ax.legend(['loss_gen', 'loss_disc'])\n",
    "#ax.set_yscale('log')\n",
    "ax.grid()\n",
    "plt.tight_layout()"
   ]
  },
  {
   "cell_type": "markdown",
   "metadata": {},
   "source": [
    "### Prediction"
   ]
  },
  {
   "cell_type": "code",
   "execution_count": null,
   "metadata": {},
   "outputs": [],
   "source": [
    "# define these for desired prediction\n",
    "x_input = [-0.75,0,0.75]\n",
    "n_points = 30\n",
    "y_min = -1\n",
    "y_max = 1\n",
    "\n",
    "\n",
    "# produces an input of fixed x coordinates with random y values\n",
    "predict1 = np.full((n_points//3, 2), x_input[0])\n",
    "predict2 = np.full((n_points//3, 2), x_input[1])\n",
    "predict3 = np.full((n_points//3, 2), x_input[2])\n",
    "predictthis = np.concatenate((predict1, predict2, predict3))\n",
    "\n",
    "for n in range(n_points):\n",
    "    predictthis[n,1] = random.uniform(y_min, y_max)\n",
    "    \n",
    "predictthis_scaled = scaler.fit_transform(predictthis)*2 - 1\n",
    "np.random.shuffle(predictthis_scaled)"
   ]
  },
  {
   "cell_type": "code",
   "execution_count": null,
   "metadata": {},
   "outputs": [],
   "source": [
    "X_generated = wgan.predict(predictthis_scaled, scaler)"
   ]
  },
  {
   "cell_type": "code",
   "execution_count": null,
   "metadata": {},
   "outputs": [],
   "source": [
    "if scenario in (\"3d\", \"helix\"):\n",
    "    ax = plt.subplot(projection='3d')\n",
    "\n",
    "    ax.scatter(X_generated[:,0], X_generated[:,1], X_generated[:,2], c='b', label='Generated Data')\n",
    "    ax.scatter(X_train[:,0], X_train[:,1], y_train, c='r')\n",
    "\n",
    "    ax.set_zlabel('Z')\n",
    "    ax.set_ylabel('Y')\n",
    "    ax.set_xlabel('X')\n",
    "\n",
    "    plt.legend(loc='best')\n",
    "    plt.tight_layout()\n",
    "    \n",
    "else:\n",
    "    plt.title(\"Prediction at x = -1, 0, 1.5\")\n",
    "    plt.scatter(X_train, y_train, label=\"Training data\")\n",
    "    #plt.scatter(predictthis[:,0], predictthis[:,1], label=\"Sample data\", c=\"pink\")\n",
    "    plt.scatter(X_generated[:,0], X_generated[:,1], label=\"Fixed Input Prediction\")\n",
    "    plt.legend(loc='upper right')\n",
    "    plt.tight_layout()\n",
    "    plt.xlabel(\"x\")\n",
    "    plt.ylabel(\"y\")"
   ]
  },
  {
   "cell_type": "code",
   "execution_count": null,
   "metadata": {},
   "outputs": [],
   "source": []
  }
 ],
 "metadata": {
  "accelerator": "GPU",
  "colab": {
   "collapsed_sections": [],
   "name": "wgan-gp_2.ipynb",
   "provenance": []
  },
  "kernelspec": {
   "display_name": "Python 3",
   "language": "python",
   "name": "python3"
  },
  "language_info": {
   "codemirror_mode": {
    "name": "ipython",
    "version": 3
   },
   "file_extension": ".py",
   "mimetype": "text/x-python",
   "name": "python",
   "nbconvert_exporter": "python",
   "pygments_lexer": "ipython3",
   "version": "3.7.3"
  }
 },
 "nbformat": 4,
 "nbformat_minor": 1
}
